{
 "cells": [
  {
   "cell_type": "code",
   "execution_count": 1,
   "metadata": {},
   "outputs": [],
   "source": [
    "import pandas as pd\n",
    "import tensorflow as tf\n",
    "import numpy as np\n",
    "import matplotlib.pyplot as plt\n",
    "import sklearn"
   ]
  },
  {
   "cell_type": "code",
   "execution_count": 2,
   "metadata": {},
   "outputs": [
    {
     "data": {
      "text/html": [
       "<div>\n",
       "<style scoped>\n",
       "    .dataframe tbody tr th:only-of-type {\n",
       "        vertical-align: middle;\n",
       "    }\n",
       "\n",
       "    .dataframe tbody tr th {\n",
       "        vertical-align: top;\n",
       "    }\n",
       "\n",
       "    .dataframe thead th {\n",
       "        text-align: right;\n",
       "    }\n",
       "</style>\n",
       "<table border=\"1\" class=\"dataframe\">\n",
       "  <thead>\n",
       "    <tr style=\"text-align: right;\">\n",
       "      <th></th>\n",
       "      <th>Timestamp</th>\n",
       "      <th>Open</th>\n",
       "      <th>High</th>\n",
       "      <th>Low</th>\n",
       "      <th>Close</th>\n",
       "      <th>Volume_(BTC)</th>\n",
       "      <th>Volume_(Currency)</th>\n",
       "      <th>Weighted_Price</th>\n",
       "    </tr>\n",
       "  </thead>\n",
       "  <tbody>\n",
       "    <tr>\n",
       "      <th>0</th>\n",
       "      <td>1417411980</td>\n",
       "      <td>300.0</td>\n",
       "      <td>300.0</td>\n",
       "      <td>300.0</td>\n",
       "      <td>300.0</td>\n",
       "      <td>0.01</td>\n",
       "      <td>3.0</td>\n",
       "      <td>300.0</td>\n",
       "    </tr>\n",
       "    <tr>\n",
       "      <th>1</th>\n",
       "      <td>1417412040</td>\n",
       "      <td>NaN</td>\n",
       "      <td>NaN</td>\n",
       "      <td>NaN</td>\n",
       "      <td>NaN</td>\n",
       "      <td>NaN</td>\n",
       "      <td>NaN</td>\n",
       "      <td>NaN</td>\n",
       "    </tr>\n",
       "    <tr>\n",
       "      <th>2</th>\n",
       "      <td>1417412100</td>\n",
       "      <td>NaN</td>\n",
       "      <td>NaN</td>\n",
       "      <td>NaN</td>\n",
       "      <td>NaN</td>\n",
       "      <td>NaN</td>\n",
       "      <td>NaN</td>\n",
       "      <td>NaN</td>\n",
       "    </tr>\n",
       "    <tr>\n",
       "      <th>3</th>\n",
       "      <td>1417412160</td>\n",
       "      <td>NaN</td>\n",
       "      <td>NaN</td>\n",
       "      <td>NaN</td>\n",
       "      <td>NaN</td>\n",
       "      <td>NaN</td>\n",
       "      <td>NaN</td>\n",
       "      <td>NaN</td>\n",
       "    </tr>\n",
       "    <tr>\n",
       "      <th>4</th>\n",
       "      <td>1417412220</td>\n",
       "      <td>NaN</td>\n",
       "      <td>NaN</td>\n",
       "      <td>NaN</td>\n",
       "      <td>NaN</td>\n",
       "      <td>NaN</td>\n",
       "      <td>NaN</td>\n",
       "      <td>NaN</td>\n",
       "    </tr>\n",
       "  </tbody>\n",
       "</table>\n",
       "</div>"
      ],
      "text/plain": [
       "    Timestamp   Open   High    Low  Close  Volume_(BTC)  Volume_(Currency)  \\\n",
       "0  1417411980  300.0  300.0  300.0  300.0          0.01                3.0   \n",
       "1  1417412040    NaN    NaN    NaN    NaN           NaN                NaN   \n",
       "2  1417412100    NaN    NaN    NaN    NaN           NaN                NaN   \n",
       "3  1417412160    NaN    NaN    NaN    NaN           NaN                NaN   \n",
       "4  1417412220    NaN    NaN    NaN    NaN           NaN                NaN   \n",
       "\n",
       "   Weighted_Price  \n",
       "0           300.0  \n",
       "1             NaN  \n",
       "2             NaN  \n",
       "3             NaN  \n",
       "4             NaN  "
      ]
     },
     "execution_count": 2,
     "metadata": {},
     "output_type": "execute_result"
    }
   ],
   "source": [
    "bits = pd.read_csv('coinbaseUSD_1-min_data_2014-12-01_to_2019-01-09.csv')\n",
    "bits.head()"
   ]
  },
  {
   "cell_type": "markdown",
   "metadata": {},
   "source": [
    "We will be using weighted price of bitcoin for prediction. Currently the time is in unix timestamp and has data for every minute. Lets average the price over a day and forecast for next 30 days."
   ]
  },
  {
   "cell_type": "code",
   "execution_count": 3,
   "metadata": {},
   "outputs": [],
   "source": [
    "bits['date'] = pd.to_datetime(bits['Timestamp'],unit='s').dt.date\n",
    "group = bits.groupby('date')\n",
    "Real_Price = group['Weighted_Price'].mean()"
   ]
  },
  {
   "cell_type": "code",
   "execution_count": 4,
   "metadata": {},
   "outputs": [
    {
     "data": {
      "text/plain": [
       "date\n",
       "2014-12-01    335.000000\n",
       "2014-12-02    377.854911\n",
       "2014-12-03    377.818333\n",
       "2014-12-04    377.100000\n",
       "2014-12-06    378.000000\n",
       "Name: Weighted_Price, dtype: float64"
      ]
     },
     "execution_count": 4,
     "metadata": {},
     "output_type": "execute_result"
    }
   ],
   "source": [
    "Real_Price[0:5]"
   ]
  },
  {
   "cell_type": "code",
   "execution_count": 5,
   "metadata": {},
   "outputs": [],
   "source": [
    "# split data\n",
    "prediction_days = 30\n",
    "df_train= Real_Price[:len(Real_Price)-prediction_days]\n",
    "df_test= Real_Price[len(Real_Price)-prediction_days:]"
   ]
  },
  {
   "cell_type": "markdown",
   "metadata": {},
   "source": [
    "## One Shot LSTM/RNN"
   ]
  },
  {
   "cell_type": "code",
   "execution_count": 6,
   "metadata": {},
   "outputs": [],
   "source": [
    "# hyperparameters\n",
    "n_steps = 10\n",
    "nb_epochs=20\n",
    "lr=0.001"
   ]
  },
  {
   "cell_type": "code",
   "execution_count": 7,
   "metadata": {},
   "outputs": [],
   "source": [
    "# Data preprocess\n",
    "training_set = df_train.values\n",
    "training_set = np.reshape(training_set, (len(training_set), 1))\n",
    "test_set = df_test.values\n",
    "test_set = np.reshape(test_set, (len(test_set), 1))\n",
    "from sklearn.preprocessing import MinMaxScaler\n",
    "sc = MinMaxScaler()\n",
    "training_set = sc.fit_transform(training_set)\n",
    "test_set = sc.transform(test_set)"
   ]
  },
  {
   "cell_type": "code",
   "execution_count": 8,
   "metadata": {},
   "outputs": [],
   "source": [
    "# split a univariate sequence into samples\n",
    "def split_sequence(sequence, n_steps):\n",
    "\tX, y = list(), list()\n",
    "\tfor i in range(len(sequence)):\n",
    "\t\t# find the end of this pattern\n",
    "\t\tend_ix = i + n_steps\n",
    "\t\t# check if we are beyond the sequence\n",
    "\t\tif end_ix > len(sequence)-1:\n",
    "\t\t\tbreak\n",
    "\t\t# gather input and output parts of the pattern\n",
    "\t\tseq_x, seq_y = sequence[i:end_ix], sequence[end_ix]\n",
    "\t\tX.append(seq_x)\n",
    "\t\ty.append(seq_y)\n",
    "\treturn np.array(X), np.array(y)"
   ]
  },
  {
   "cell_type": "code",
   "execution_count": 9,
   "metadata": {},
   "outputs": [
    {
     "name": "stdout",
     "output_type": "stream",
     "text": [
      "(1425, 10, 1)\n",
      "30\n",
      "(20, 10, 1)\n"
     ]
    }
   ],
   "source": [
    "#Prepare batches bs*seq_len*1\n",
    "X_train,y_train = split_sequence(training_set, n_steps)\n",
    "print(X_train.shape)\n",
    "print(len(test_set))\n",
    "X_test, y_test = split_sequence(test_set, n_steps)\n",
    "print(X_test.shape)"
   ]
  },
  {
   "cell_type": "code",
   "execution_count": 10,
   "metadata": {},
   "outputs": [],
   "source": [
    "import tensorflow as tf"
   ]
  },
  {
   "cell_type": "code",
   "execution_count": 11,
   "metadata": {},
   "outputs": [],
   "source": [
    "mc = tf.keras.callbacks.ModelCheckpoint('best_model.h5', monitor='val_loss', mode='min', verbose=1)\n",
    "es = tf.keras.callbacks.EarlyStopping(monitor='val_loss', mode='min', verbose=1, patience=5)"
   ]
  },
  {
   "cell_type": "code",
   "execution_count": 12,
   "metadata": {},
   "outputs": [],
   "source": [
    "# define model\n",
    "model = tf.keras.models.Sequential()\n",
    "model.add(tf.keras.layers.LSTM(50, activation='relu', input_shape=(n_steps, 1)))\n",
    "model.add(tf.keras.layers.Dense(1))\n",
    "model.compile(optimizer='adam', loss='mse')"
   ]
  },
  {
   "cell_type": "code",
   "execution_count": 13,
   "metadata": {},
   "outputs": [
    {
     "name": "stdout",
     "output_type": "stream",
     "text": [
      "Train on 1425 samples, validate on 20 samples\n",
      "Epoch 1/20\n",
      "1425/1425 [==============================] - 7s 5ms/step - loss: 0.0178 - val_loss: 2.1389e-04\n",
      "\n",
      "Epoch 00001: saving model to best_model.h5\n",
      "Epoch 2/20\n",
      "1425/1425 [==============================] - 1s 954us/step - loss: 6.6590e-04 - val_loss: 2.3074e-04\n",
      "\n",
      "Epoch 00002: saving model to best_model.h5\n",
      "Epoch 3/20\n",
      "1425/1425 [==============================] - 1s 965us/step - loss: 5.2283e-04 - val_loss: 2.3357e-04\n",
      "\n",
      "Epoch 00003: saving model to best_model.h5\n",
      "Epoch 4/20\n",
      "1425/1425 [==============================] - 1s 930us/step - loss: 4.7647e-04 - val_loss: 1.2014e-04\n",
      "\n",
      "Epoch 00004: saving model to best_model.h5\n",
      "Epoch 5/20\n",
      "1425/1425 [==============================] - 1s 928us/step - loss: 4.5306e-04 - val_loss: 1.0341e-04\n",
      "\n",
      "Epoch 00005: saving model to best_model.h5\n",
      "Epoch 6/20\n",
      "1425/1425 [==============================] - 1s 925us/step - loss: 4.4146e-04 - val_loss: 1.2014e-04\n",
      "\n",
      "Epoch 00006: saving model to best_model.h5\n",
      "Epoch 7/20\n",
      "1425/1425 [==============================] - 1s 965us/step - loss: 4.7305e-04 - val_loss: 1.3428e-04\n",
      "\n",
      "Epoch 00007: saving model to best_model.h5\n",
      "Epoch 8/20\n",
      "1425/1425 [==============================] - 1s 934us/step - loss: 4.1900e-04 - val_loss: 1.0489e-04\n",
      "\n",
      "Epoch 00008: saving model to best_model.h5\n",
      "Epoch 9/20\n",
      "1425/1425 [==============================] - 1s 954us/step - loss: 3.9024e-04 - val_loss: 1.0242e-04\n",
      "\n",
      "Epoch 00009: saving model to best_model.h5\n",
      "Epoch 10/20\n",
      "1425/1425 [==============================] - 1s 1ms/step - loss: 3.8490e-04 - val_loss: 1.0151e-04\n",
      "\n",
      "Epoch 00010: saving model to best_model.h5\n",
      "Epoch 11/20\n",
      "1425/1425 [==============================] - 1s 928us/step - loss: 3.8775e-04 - val_loss: 1.5505e-04\n",
      "\n",
      "Epoch 00011: saving model to best_model.h5\n",
      "Epoch 12/20\n",
      "1425/1425 [==============================] - 1s 948us/step - loss: 3.7200e-04 - val_loss: 1.4654e-04\n",
      "\n",
      "Epoch 00012: saving model to best_model.h5\n",
      "Epoch 13/20\n",
      "1425/1425 [==============================] - 2s 1ms/step - loss: 3.9226e-04 - val_loss: 1.3651e-04\n",
      "\n",
      "Epoch 00013: saving model to best_model.h5\n",
      "Epoch 14/20\n",
      "1425/1425 [==============================] - 1s 997us/step - loss: 3.3079e-04 - val_loss: 1.5412e-04\n",
      "\n",
      "Epoch 00014: saving model to best_model.h5\n",
      "Epoch 15/20\n",
      "1425/1425 [==============================] - 1s 946us/step - loss: 3.4845e-04 - val_loss: 1.4200e-04\n",
      "\n",
      "Epoch 00015: saving model to best_model.h5\n",
      "Epoch 00015: early stopping\n"
     ]
    },
    {
     "data": {
      "text/plain": [
       "<tensorflow.python.keras.callbacks.History at 0x1c775a4d320>"
      ]
     },
     "execution_count": 13,
     "metadata": {},
     "output_type": "execute_result"
    }
   ],
   "source": [
    "model.fit(X_train, y_train, epochs=nb_epochs, verbose=1, validation_data=(X_test, y_test),callbacks=[mc, es])"
   ]
  },
  {
   "cell_type": "code",
   "execution_count": 14,
   "metadata": {},
   "outputs": [
    {
     "name": "stdout",
     "output_type": "stream",
     "text": [
      "Train: 0.000, Test: 0.000\n"
     ]
    }
   ],
   "source": [
    "# load the saved model\n",
    "saved_model = tf.keras.models.load_model('best_model.h5')\n",
    "# evaluate the model\n",
    "train_loss = saved_model.evaluate(X_train, y_train, verbose=0)\n",
    "test_loss = saved_model.evaluate(X_test, y_test, verbose=0)\n",
    "print('Train: %.3f, Test: %.3f' % (train_loss, test_loss))"
   ]
  },
  {
   "cell_type": "markdown",
   "metadata": {},
   "source": [
    "## Inference"
   ]
  },
  {
   "cell_type": "code",
   "execution_count": 15,
   "metadata": {},
   "outputs": [],
   "source": [
    "train_predictions = saved_model.predict(X_train)\n",
    "test_predictions = saved_model.predict(X_test)"
   ]
  },
  {
   "cell_type": "code",
   "execution_count": 16,
   "metadata": {},
   "outputs": [],
   "source": [
    "train_p = sc.inverse_transform(train_predictions)\n",
    "test_p = sc.inverse_transform(test_predictions)"
   ]
  },
  {
   "cell_type": "markdown",
   "metadata": {},
   "source": [
    "## Training fit"
   ]
  },
  {
   "cell_type": "code",
   "execution_count": 17,
   "metadata": {},
   "outputs": [
    {
     "data": {
      "image/png": "[encoded data removed]",
      "text/plain": [
       "<Figure size 432x288 with 1 Axes>"
      ]
     },
     "metadata": {
      "needs_background": "light"
     },
     "output_type": "display_data"
    }
   ],
   "source": [
    "import math\n",
    "t = np.linspace(0, 2*math.pi, 1425)\n",
    "plt.plot(t, sc.inverse_transform(y_train),'r')\n",
    "plt.plot(t,train_p,'g')\n",
    "plt.show()"
   ]
  },
  {
   "cell_type": "markdown",
   "metadata": {},
   "source": [
    "## Test fit"
   ]
  },
  {
   "cell_type": "code",
   "execution_count": 18,
   "metadata": {
    "scrolled": true
   },
   "outputs": [
    {
     "data": {
      "image/png": "[encoded data removed]",
      "text/plain": [
       "<Figure size 432x288 with 1 Axes>"
      ]
     },
     "metadata": {
      "needs_background": "light"
     },
     "output_type": "display_data"
    }
   ],
   "source": [
    "t = np.linspace(0, 2*math.pi, 20)\n",
    "plt.plot(t, sc.inverse_transform(y_test),'r')\n",
    "plt.plot(t,test_p,'g')\n",
    "plt.show()"
   ]
  },
  {
   "cell_type": "markdown",
   "metadata": {},
   "source": [
    "Seems like the model is overfitting, we can add dropout and gradient clipping to improve results. Lets look at second architecture."
   ]
  },
  {
   "cell_type": "markdown",
   "metadata": {},
   "source": [
    "## Bidirectional LSTM Model"
   ]
  },
  {
   "cell_type": "code",
   "execution_count": 19,
   "metadata": {},
   "outputs": [],
   "source": [
    "# define model\n",
    "bi_model = tf.keras.models.Sequential()\n",
    "bi_model.add(tf.keras.layers.Bidirectional(tf.keras.layers.LSTM(50, activation='relu'), input_shape=(n_steps, 1)))\n",
    "bi_model.add(tf.keras.layers.Dense(1))\n",
    "bi_model.compile(optimizer='adam', loss='mse')"
   ]
  },
  {
   "cell_type": "code",
   "execution_count": 20,
   "metadata": {},
   "outputs": [
    {
     "name": "stdout",
     "output_type": "stream",
     "text": [
      "Train on 1425 samples, validate on 20 samples\n",
      "Epoch 1/20\n",
      "1425/1425 [==============================] - 4s 3ms/step - loss: 0.0162 - val_loss: 7.9686e-04\n",
      "\n",
      "Epoch 00001: saving model to best_model.h5\n",
      "Epoch 2/20\n",
      "1425/1425 [==============================] - 2s 1ms/step - loss: 9.5823e-04 - val_loss: 2.4207e-04\n",
      "\n",
      "Epoch 00002: saving model to best_model.h5\n",
      "Epoch 3/20\n",
      "1425/1425 [==============================] - 2s 2ms/step - loss: 8.5319e-04 - val_loss: 1.4291e-04\n",
      "\n",
      "Epoch 00003: saving model to best_model.h5\n",
      "Epoch 4/20\n",
      "1425/1425 [==============================] - 2s 2ms/step - loss: 7.5895e-04 - val_loss: 1.4017e-04\n",
      "\n",
      "Epoch 00004: saving model to best_model.h5\n",
      "Epoch 5/20\n",
      "1425/1425 [==============================] - 2s 1ms/step - loss: 7.2196e-04 - val_loss: 1.8895e-04\n",
      "\n",
      "Epoch 00005: saving model to best_model.h5\n",
      "Epoch 6/20\n",
      "1425/1425 [==============================] - 2s 1ms/step - loss: 7.0762e-04 - val_loss: 1.8975e-04\n",
      "\n",
      "Epoch 00006: saving model to best_model.h5\n",
      "Epoch 7/20\n",
      "1425/1425 [==============================] - 2s 2ms/step - loss: 6.6583e-04 - val_loss: 1.2737e-04\n",
      "\n",
      "Epoch 00007: saving model to best_model.h5\n",
      "Epoch 8/20\n",
      "1425/1425 [==============================] - 2s 2ms/step - loss: 6.5259e-04 - val_loss: 1.4073e-04\n",
      "\n",
      "Epoch 00008: saving model to best_model.h5\n",
      "Epoch 9/20\n",
      "1425/1425 [==============================] - 2s 2ms/step - loss: 6.3919e-04 - val_loss: 1.9285e-04\n",
      "\n",
      "Epoch 00009: saving model to best_model.h5\n",
      "Epoch 10/20\n",
      "1425/1425 [==============================] - 2s 2ms/step - loss: 5.9061e-04 - val_loss: 1.2486e-04\n",
      "\n",
      "Epoch 00010: saving model to best_model.h5\n",
      "Epoch 11/20\n",
      "1425/1425 [==============================] - 2s 1ms/step - loss: 6.0182e-04 - val_loss: 1.3100e-04\n",
      "\n",
      "Epoch 00011: saving model to best_model.h5\n",
      "Epoch 12/20\n",
      "1425/1425 [==============================] - 2s 1ms/step - loss: 5.0985e-04 - val_loss: 4.6001e-04\n",
      "\n",
      "Epoch 00012: saving model to best_model.h5\n",
      "Epoch 13/20\n",
      "1425/1425 [==============================] - 2s 1ms/step - loss: 4.7111e-04 - val_loss: 1.2005e-04\n",
      "\n",
      "Epoch 00013: saving model to best_model.h5\n",
      "Epoch 14/20\n",
      "1425/1425 [==============================] - 2s 1ms/step - loss: 4.4025e-04 - val_loss: 1.3372e-04\n",
      "\n",
      "Epoch 00014: saving model to best_model.h5\n",
      "Epoch 15/20\n",
      "1425/1425 [==============================] - 2s 1ms/step - loss: 4.1633e-04 - val_loss: 1.1868e-04\n",
      "\n",
      "Epoch 00015: saving model to best_model.h5\n",
      "Epoch 16/20\n",
      "1425/1425 [==============================] - 2s 1ms/step - loss: 4.0839e-04 - val_loss: 1.9232e-04\n",
      "\n",
      "Epoch 00016: saving model to best_model.h5\n",
      "Epoch 17/20\n",
      "1425/1425 [==============================] - 2s 1ms/step - loss: 4.2021e-04 - val_loss: 3.3449e-04\n",
      "\n",
      "Epoch 00017: saving model to best_model.h5\n",
      "Epoch 18/20\n",
      "1425/1425 [==============================] - 2s 1ms/step - loss: 4.5372e-04 - val_loss: 1.0477e-04\n",
      "\n",
      "Epoch 00018: saving model to best_model.h5\n",
      "Epoch 19/20\n",
      "1425/1425 [==============================] - 2s 1ms/step - loss: 4.2968e-04 - val_loss: 1.3655e-04\n",
      "\n",
      "Epoch 00019: saving model to best_model.h5\n",
      "Epoch 20/20\n",
      "1425/1425 [==============================] - 2s 1ms/step - loss: 3.5907e-04 - val_loss: 1.0516e-04\n",
      "\n",
      "Epoch 00020: saving model to best_model.h5\n"
     ]
    },
    {
     "data": {
      "text/plain": [
       "<tensorflow.python.keras.callbacks.History at 0x1c8181ceeb8>"
      ]
     },
     "execution_count": 20,
     "metadata": {},
     "output_type": "execute_result"
    }
   ],
   "source": [
    "bi_model.fit(X_train, y_train, epochs=nb_epochs, verbose=1, validation_data=(X_test, y_test),callbacks=[mc, es])"
   ]
  },
  {
   "cell_type": "code",
   "execution_count": 21,
   "metadata": {},
   "outputs": [
    {
     "name": "stdout",
     "output_type": "stream",
     "text": [
      "Train: 0.000, Test: 0.000\n"
     ]
    }
   ],
   "source": [
    "# load the saved model\n",
    "saved_model2 = tf.keras.models.load_model('best_model.h5')\n",
    "# evaluate the model\n",
    "train_loss = saved_model2.evaluate(X_train, y_train, verbose=0)\n",
    "test_loss = saved_model2.evaluate(X_test, y_test, verbose=0)\n",
    "print('Train: %.3f, Test: %.3f' % (train_loss, test_loss))"
   ]
  },
  {
   "cell_type": "markdown",
   "metadata": {},
   "source": [
    "## Inference"
   ]
  },
  {
   "cell_type": "code",
   "execution_count": 22,
   "metadata": {},
   "outputs": [],
   "source": [
    "train_predictions = saved_model2.predict(X_train)\n",
    "test_predictions = saved_model2.predict(X_test)"
   ]
  },
  {
   "cell_type": "code",
   "execution_count": 23,
   "metadata": {},
   "outputs": [],
   "source": [
    "train_p = sc.inverse_transform(train_predictions)\n",
    "test_p = sc.inverse_transform(test_predictions)"
   ]
  },
  {
   "cell_type": "markdown",
   "metadata": {},
   "source": [
    "## Training fit"
   ]
  },
  {
   "cell_type": "code",
   "execution_count": 24,
   "metadata": {},
   "outputs": [
    {
     "data": {
      "image/png": "[encoded data removed]",
      "text/plain": [
       "<Figure size 432x288 with 1 Axes>"
      ]
     },
     "metadata": {
      "needs_background": "light"
     },
     "output_type": "display_data"
    }
   ],
   "source": [
    "import math\n",
    "t = np.linspace(0, 2*math.pi, 1425)\n",
    "plt.plot(t, sc.inverse_transform(y_train),'r')\n",
    "plt.plot(t,train_p,'g')\n",
    "plt.show()"
   ]
  },
  {
   "cell_type": "markdown",
   "metadata": {},
   "source": [
    "## Test fit"
   ]
  },
  {
   "cell_type": "code",
   "execution_count": 25,
   "metadata": {
    "scrolled": true
   },
   "outputs": [
    {
     "data": {
      "image/png": "[encoded data removed]",
      "text/plain": [
       "<Figure size 432x288 with 1 Axes>"
      ]
     },
     "metadata": {
      "needs_background": "light"
     },
     "output_type": "display_data"
    }
   ],
   "source": [
    "t = np.linspace(0, 2*math.pi, 20)\n",
    "plt.plot(t, sc.inverse_transform(y_test),'r', label=\"True label\")\n",
    "plt.plot(t,test_p,'g', label=\"Predictions\")\n",
    "plt.legend()\n",
    "plt.show()"
   ]
  },
  {
   "cell_type": "markdown",
   "metadata": {},
   "source": [
    "## Encoder Decoder Model For Multiple Predictions"
   ]
  },
  {
   "cell_type": "markdown",
   "metadata": {},
   "source": [
    "### Data Processing"
   ]
  },
  {
   "cell_type": "markdown",
   "metadata": {},
   "source": [
    "First we need to prepare the data in such a way that multiple steps can go in as input and multiple steps can come as output."
   ]
  },
  {
   "cell_type": "code",
   "execution_count": 26,
   "metadata": {},
   "outputs": [],
   "source": [
    "def split_sequence(sequence, n_steps_in, n_steps_out):\n",
    "\tX, y = list(), list()\n",
    "\tfor i in range(len(sequence)):\n",
    "\t\t# find the end of this pattern\n",
    "\t\tend_ix = i + n_steps_in\n",
    "\t\tout_end_ix = end_ix + n_steps_out\n",
    "\t\t# check if we are beyond the sequence\n",
    "\t\tif out_end_ix > len(sequence):\n",
    "\t\t\tbreak\n",
    "\t\t# gather input and output parts of the pattern\n",
    "\t\tseq_x, seq_y = sequence[i:end_ix], sequence[end_ix:out_end_ix]\n",
    "\t\tX.append(seq_x)\n",
    "\t\ty.append(seq_y)\n",
    "\treturn np.array(X), np.array(y)"
   ]
  },
  {
   "cell_type": "code",
   "execution_count": 27,
   "metadata": {},
   "outputs": [],
   "source": [
    "# hyperparameters\n",
    "n_steps_out = 3"
   ]
  },
  {
   "cell_type": "code",
   "execution_count": 40,
   "metadata": {},
   "outputs": [
    {
     "name": "stdout",
     "output_type": "stream",
     "text": [
      "(1423, 10, 1) (1423, 3, 1)\n",
      "(18, 10, 1) (18, 3, 1)\n"
     ]
    }
   ],
   "source": [
    "#Prepare batches bs*seq_len*1\n",
    "X_train,y_train = split_sequence(training_set, n_steps, n_steps_out)\n",
    "print(X_train.shape, y_train.shape)\n",
    "X_test, y_test = split_sequence(test_set, n_steps, n_steps_out)\n",
    "print(X_test.shape, y_test.shape)"
   ]
  },
  {
   "cell_type": "code",
   "execution_count": 41,
   "metadata": {},
   "outputs": [],
   "source": [
    "# define model\n",
    "ed_model = tf.keras.models.Sequential()\n",
    "ed_model.add(tf.keras.layers.LSTM(100, activation='relu', input_shape=(n_steps, 1)))\n",
    "ed_model.add(tf.keras.layers.RepeatVector(n_steps_out))\n",
    "ed_model.add(tf.keras.layers.LSTM(100, activation='relu', return_sequences=True))\n",
    "ed_model.add(tf.keras.layers.TimeDistributed(tf.keras.layers.Dense(1)))\n",
    "ed_model.compile(optimizer='adam', loss='mse')"
   ]
  },
  {
   "cell_type": "code",
   "execution_count": 42,
   "metadata": {},
   "outputs": [],
   "source": [
    "nb_epochs = 50"
   ]
  },
  {
   "cell_type": "code",
   "execution_count": 43,
   "metadata": {
    "scrolled": false
   },
   "outputs": [
    {
     "name": "stdout",
     "output_type": "stream",
     "text": [
      "Train on 1423 samples, validate on 18 samples\n",
      "Epoch 1/50\n",
      "1423/1423 [==============================] - 5s 3ms/step - loss: 0.0253 - val_loss: 0.0038\n",
      "\n",
      "Epoch 00001: saving model to best_model.h5\n",
      "Epoch 2/50\n",
      "1423/1423 [==============================] - 2s 1ms/step - loss: 0.0035 - val_loss: 5.8966e-04\n",
      "\n",
      "Epoch 00002: saving model to best_model.h5\n",
      "Epoch 3/50\n",
      "1423/1423 [==============================] - 2s 1ms/step - loss: 0.0015 - val_loss: 4.0231e-04\n",
      "\n",
      "Epoch 00003: saving model to best_model.h5\n",
      "Epoch 4/50\n",
      "1423/1423 [==============================] - 2s 1ms/step - loss: 0.0014 - val_loss: 3.5216e-04\n",
      "\n",
      "Epoch 00004: saving model to best_model.h5\n",
      "Epoch 5/50\n",
      "1423/1423 [==============================] - 2s 1ms/step - loss: 0.0010 - val_loss: 5.5425e-04\n",
      "\n",
      "Epoch 00005: saving model to best_model.h5\n",
      "Epoch 6/50\n",
      "1423/1423 [==============================] - 2s 1ms/step - loss: 0.0012 - val_loss: 2.2760e-04\n",
      "\n",
      "Epoch 00006: saving model to best_model.h5\n",
      "Epoch 7/50\n",
      "1423/1423 [==============================] - 2s 1ms/step - loss: 8.7377e-04 - val_loss: 1.9302e-04\n",
      "\n",
      "Epoch 00007: saving model to best_model.h5\n",
      "Epoch 8/50\n",
      "1423/1423 [==============================] - 2s 1ms/step - loss: 8.3464e-04 - val_loss: 2.1006e-04\n",
      "\n",
      "Epoch 00008: saving model to best_model.h5\n",
      "Epoch 9/50\n",
      "1423/1423 [==============================] - 2s 1ms/step - loss: 7.8312e-04 - val_loss: 1.8022e-04\n",
      "\n",
      "Epoch 00009: saving model to best_model.h5\n",
      "Epoch 10/50\n",
      "1423/1423 [==============================] - 2s 1ms/step - loss: 8.9795e-04 - val_loss: 2.3234e-04\n",
      "\n",
      "Epoch 00010: saving model to best_model.h5\n",
      "Epoch 11/50\n",
      "1423/1423 [==============================] - 2s 1ms/step - loss: 7.6108e-04 - val_loss: 2.5794e-04\n",
      "\n",
      "Epoch 00011: saving model to best_model.h5\n",
      "Epoch 12/50\n",
      "1423/1423 [==============================] - 2s 1ms/step - loss: 6.7800e-04 - val_loss: 3.1641e-04\n",
      "\n",
      "Epoch 00012: saving model to best_model.h5\n",
      "Epoch 13/50\n",
      "1423/1423 [==============================] - 2s 1ms/step - loss: 6.4720e-04 - val_loss: 2.7835e-04\n",
      "\n",
      "Epoch 00013: saving model to best_model.h5\n",
      "Epoch 14/50\n",
      "1423/1423 [==============================] - 2s 1ms/step - loss: 7.2801e-04 - val_loss: 1.5843e-04\n",
      "\n",
      "Epoch 00014: saving model to best_model.h5\n",
      "Epoch 15/50\n",
      "1423/1423 [==============================] - 2s 1ms/step - loss: 5.8511e-04 - val_loss: 2.1839e-04\n",
      "\n",
      "Epoch 00015: saving model to best_model.h5\n",
      "Epoch 16/50\n",
      "1423/1423 [==============================] - 2s 1ms/step - loss: 6.8328e-04 - val_loss: 4.3666e-04\n",
      "\n",
      "Epoch 00016: saving model to best_model.h5\n",
      "Epoch 17/50\n",
      "1423/1423 [==============================] - 2s 1ms/step - loss: 8.0760e-04 - val_loss: 1.5313e-04\n",
      "\n",
      "Epoch 00017: saving model to best_model.h5\n",
      "Epoch 18/50\n",
      "1423/1423 [==============================] - 2s 1ms/step - loss: 5.7550e-04 - val_loss: 1.5573e-04\n",
      "\n",
      "Epoch 00018: saving model to best_model.h5\n",
      "Epoch 19/50\n",
      "1423/1423 [==============================] - 2s 1ms/step - loss: 5.7449e-04 - val_loss: 2.3236e-04\n",
      "\n",
      "Epoch 00019: saving model to best_model.h5\n",
      "Epoch 20/50\n",
      "1423/1423 [==============================] - 2s 1ms/step - loss: 5.7892e-04 - val_loss: 1.6073e-04\n",
      "\n",
      "Epoch 00020: saving model to best_model.h5\n",
      "Epoch 21/50\n",
      "1423/1423 [==============================] - 2s 1ms/step - loss: 7.6606e-04 - val_loss: 1.6799e-04\n",
      "\n",
      "Epoch 00021: saving model to best_model.h5\n",
      "Epoch 22/50\n",
      "1423/1423 [==============================] - 2s 1ms/step - loss: 6.0634e-04 - val_loss: 1.4293e-04\n",
      "\n",
      "Epoch 00022: saving model to best_model.h5\n",
      "Epoch 23/50\n",
      "1423/1423 [==============================] - 2s 1ms/step - loss: 5.9892e-04 - val_loss: 1.4019e-04\n",
      "\n",
      "Epoch 00023: saving model to best_model.h5\n",
      "Epoch 24/50\n",
      "1423/1423 [==============================] - 2s 1ms/step - loss: 5.5442e-04 - val_loss: 1.7637e-04\n",
      "\n",
      "Epoch 00024: saving model to best_model.h5\n",
      "Epoch 25/50\n",
      "1423/1423 [==============================] - 2s 1ms/step - loss: 6.2881e-04 - val_loss: 1.5323e-04\n",
      "\n",
      "Epoch 00025: saving model to best_model.h5\n",
      "Epoch 26/50\n",
      "1423/1423 [==============================] - 2s 1ms/step - loss: 5.6843e-04 - val_loss: 1.7411e-04\n",
      "\n",
      "Epoch 00026: saving model to best_model.h5\n",
      "Epoch 27/50\n",
      "1423/1423 [==============================] - 2s 1ms/step - loss: 5.7255e-04 - val_loss: 1.3996e-04\n",
      "\n",
      "Epoch 00027: saving model to best_model.h5\n",
      "Epoch 28/50\n",
      "1423/1423 [==============================] - 2s 1ms/step - loss: 4.8830e-04 - val_loss: 1.6584e-04\n",
      "\n",
      "Epoch 00028: saving model to best_model.h5\n",
      "Epoch 29/50\n",
      "1423/1423 [==============================] - 2s 1ms/step - loss: 5.2013e-04 - val_loss: 1.5018e-04\n",
      "\n",
      "Epoch 00029: saving model to best_model.h5\n",
      "Epoch 30/50\n",
      "1423/1423 [==============================] - 2s 1ms/step - loss: 5.3467e-04 - val_loss: 1.7772e-04\n",
      "\n",
      "Epoch 00030: saving model to best_model.h5\n",
      "Epoch 31/50\n",
      "1423/1423 [==============================] - 2s 1ms/step - loss: 5.3225e-04 - val_loss: 1.5085e-04\n",
      "\n",
      "Epoch 00031: saving model to best_model.h5\n",
      "Epoch 32/50\n",
      "1423/1423 [==============================] - 2s 1ms/step - loss: 4.6925e-04 - val_loss: 1.3034e-04\n",
      "\n",
      "Epoch 00032: saving model to best_model.h5\n",
      "Epoch 33/50\n",
      "1423/1423 [==============================] - 2s 1ms/step - loss: 5.3337e-04 - val_loss: 1.3590e-04\n",
      "\n",
      "Epoch 00033: saving model to best_model.h5\n",
      "Epoch 34/50\n",
      "1423/1423 [==============================] - 2s 1ms/step - loss: 5.2712e-04 - val_loss: 1.4444e-04\n",
      "\n",
      "Epoch 00034: saving model to best_model.h5\n",
      "Epoch 35/50\n",
      "1423/1423 [==============================] - 2s 1ms/step - loss: 5.7098e-04 - val_loss: 3.1076e-04\n",
      "\n",
      "Epoch 00035: saving model to best_model.h5\n",
      "Epoch 36/50\n",
      "1423/1423 [==============================] - 2s 1ms/step - loss: 4.6591e-04 - val_loss: 2.5171e-04\n",
      "\n",
      "Epoch 00036: saving model to best_model.h5\n",
      "Epoch 37/50\n",
      "1423/1423 [==============================] - 2s 1ms/step - loss: 5.3081e-04 - val_loss: 3.6490e-04\n",
      "\n",
      "Epoch 00037: saving model to best_model.h5\n",
      "Epoch 00037: early stopping\n"
     ]
    }
   ],
   "source": [
    "history = ed_model.fit(X_train, y_train, epochs=nb_epochs, verbose=1, validation_data=(X_test, y_test),callbacks=[mc, es])"
   ]
  },
  {
   "cell_type": "code",
   "execution_count": 44,
   "metadata": {},
   "outputs": [
    {
     "data": {
      "image/png": "[encoded data removed]",
      "text/plain": [
       "<Figure size 432x288 with 1 Axes>"
      ]
     },
     "metadata": {
      "needs_background": "light"
     },
     "output_type": "display_data"
    }
   ],
   "source": [
    "# plot training history\n",
    "plt.plot(history.history['loss'], label='train')\n",
    "plt.plot(history.history['val_loss'], label='test')\n",
    "plt.legend()\n",
    "plt.title(\"Training Losses\")\n",
    "plt.show()"
   ]
  },
  {
   "cell_type": "markdown",
   "metadata": {},
   "source": [
    "### Inference For test set"
   ]
  },
  {
   "cell_type": "code",
   "execution_count": 49,
   "metadata": {},
   "outputs": [
    {
     "data": {
      "text/plain": [
       "(18, 3, 1)"
      ]
     },
     "execution_count": 49,
     "metadata": {},
     "output_type": "execute_result"
    }
   ],
   "source": [
    "test_predictions = ed_model.predict(X_test)\n",
    "test_predictions.shape"
   ]
  },
  {
   "cell_type": "code",
   "execution_count": 50,
   "metadata": {},
   "outputs": [],
   "source": [
    "y_pred = test_predictions[:,2,:]"
   ]
  },
  {
   "cell_type": "code",
   "execution_count": 51,
   "metadata": {},
   "outputs": [
    {
     "data": {
      "text/plain": [
       "(18, 1)"
      ]
     },
     "execution_count": 51,
     "metadata": {},
     "output_type": "execute_result"
    }
   ],
   "source": [
    "y_true = y_test[:,2,:]\n",
    "y_true.shape"
   ]
  },
  {
   "cell_type": "code",
   "execution_count": 52,
   "metadata": {},
   "outputs": [
    {
     "data": {
      "text/plain": [
       "(18, 1)"
      ]
     },
     "execution_count": 52,
     "metadata": {},
     "output_type": "execute_result"
    }
   ],
   "source": [
    "y_pred.shape"
   ]
  },
  {
   "cell_type": "code",
   "execution_count": 53,
   "metadata": {},
   "outputs": [
    {
     "data": {
      "image/png": "[encoded data removed]",
      "text/plain": [
       "<Figure size 432x288 with 1 Axes>"
      ]
     },
     "metadata": {
      "needs_background": "light"
     },
     "output_type": "display_data"
    }
   ],
   "source": [
    "t = np.linspace(0, 2*math.pi, 18)\n",
    "plt.plot(t, sc.inverse_transform(y_true),'r', label=\"True Data\")\n",
    "plt.plot(t,sc.inverse_transform(y_pred),'g', label = \"Prediction\")\n",
    "plt.legend()\n",
    "plt.show()"
   ]
  },
  {
   "cell_type": "markdown",
   "metadata": {},
   "source": [
    "## Visualize the model"
   ]
  },
  {
   "cell_type": "code",
   "execution_count": 68,
   "metadata": {
    "scrolled": true
   },
   "outputs": [
    {
     "name": "stdout",
     "output_type": "stream",
     "text": [
      "_________________________________________________________________\n",
      "Layer (type)                 Output Shape              Param #   \n",
      "=================================================================\n",
      "lstm_4 (LSTM)                (None, 100)               40800     \n",
      "_________________________________________________________________\n",
      "repeat_vector_1 (RepeatVecto (None, 3, 100)            0         \n",
      "_________________________________________________________________\n",
      "lstm_5 (LSTM)                (None, 3, 100)            80400     \n",
      "_________________________________________________________________\n",
      "time_distributed_1 (TimeDist (None, 3, 1)              101       \n",
      "=================================================================\n",
      "Total params: 121,301\n",
      "Trainable params: 121,301\n",
      "Non-trainable params: 0\n",
      "_________________________________________________________________\n"
     ]
    }
   ],
   "source": [
    "ed_model.summary()"
   ]
  },
  {
   "cell_type": "code",
   "execution_count": null,
   "metadata": {},
   "outputs": [],
   "source": []
  }
 ],
 "metadata": {
  "kernelspec": {
   "display_name": "Python 3",
   "language": "python",
   "name": "python3"
  },
  "language_info": {
   "codemirror_mode": {
    "name": "ipython",
    "version": 3
   },
   "file_extension": ".py",
   "mimetype": "text/x-python",
   "name": "python",
   "nbconvert_exporter": "python",
   "pygments_lexer": "ipython3",
   "version": "3.6.8"
  }
 },
 "nbformat": 4,
 "nbformat_minor": 2
}
